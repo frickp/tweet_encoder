{
 "cells": [
  {
   "cell_type": "markdown",
   "metadata": {},
   "source": [
    "Test tweet similarity performance of embedding autoencoder network"
   ]
  },
  {
   "cell_type": "code",
   "execution_count": 1,
   "metadata": {},
   "outputs": [
    {
     "name": "stderr",
     "output_type": "stream",
     "text": [
      "Using TensorFlow backend.\n"
     ]
    }
   ],
   "source": [
    "from sys import path\n",
    "path.append('./')\n",
    "import utils\n",
    "import pickle\n",
    "\n",
    "from sklearn.neighbors import BallTree\n",
    "import numpy as np\n",
    "import matplotlib.pylab as plt\n",
    "plt.style.use('/Users/pf494t/.matplotlib/stylelib/plf.mplstyle')\n",
    "\n",
    "%matplotlib inline"
   ]
  },
  {
   "cell_type": "code",
   "execution_count": 2,
   "metadata": {},
   "outputs": [],
   "source": [
    "model = utils.EmbeddingAutoencoder(\n",
    "    labeled_twts='lab_twts_1million.csv',\n",
    "    glove_path='../glove_pretrained/glove.twitter.27B.200d.txt',\n",
    "    num_total_twts = int(1e6),\n",
    "    glove_vec_size=200,\n",
    "    top_n_words_to_process=100000,\n",
    "    max_seq_length=50,\n",
    "    batch_size=64,\n",
    "    emb_size=200,\n",
    "    lstm_units=24\n",
    ")"
   ]
  },
  {
   "cell_type": "code",
   "execution_count": 3,
   "metadata": {},
   "outputs": [
    {
     "name": "stderr",
     "output_type": "stream",
     "text": [
      "b'Skipping line 8836: expected 4 fields, saw 5\\n'\n",
      "b'Skipping line 535882: expected 4 fields, saw 7\\n'\n"
     ]
    }
   ],
   "source": [
    "model.read_data()"
   ]
  },
  {
   "cell_type": "code",
   "execution_count": 4,
   "metadata": {},
   "outputs": [],
   "source": [
    "model.text_preprocessing()"
   ]
  },
  {
   "cell_type": "code",
   "execution_count": null,
   "metadata": {},
   "outputs": [],
   "source": [
    "# skip this, since this was pre-computed"
   ]
  },
  {
   "cell_type": "code",
   "execution_count": 5,
   "metadata": {},
   "outputs": [],
   "source": [
    "#model.build_embedding_matrix(mat_name_save='normed_embedding_mat.pickle')"
   ]
  },
  {
   "cell_type": "code",
   "execution_count": 5,
   "metadata": {},
   "outputs": [],
   "source": [
    "model.load_embedding_matrix(pickle_file='model_objects/normed_embedding_mat.pickle')"
   ]
  },
  {
   "cell_type": "code",
   "execution_count": 6,
   "metadata": {},
   "outputs": [
    {
     "name": "stdout",
     "output_type": "stream",
     "text": [
      "WARNING:tensorflow:From /Users/pf494t/anaconda2/envs/py36/lib/python3.6/site-packages/tensorflow/python/ops/losses/losses_impl.py:314: calling reduce_sum (from tensorflow.python.ops.math_ops) with keep_dims is deprecated and will be removed in a future version.\n",
      "Instructions for updating:\n",
      "keep_dims is deprecated, use keepdims instead\n"
     ]
    }
   ],
   "source": [
    "model.build_embedding_autoencoder_graph()"
   ]
  },
  {
   "cell_type": "markdown",
   "metadata": {},
   "source": [
    "### Uncomment to re-train model"
   ]
  },
  {
   "cell_type": "code",
   "execution_count": 11,
   "metadata": {},
   "outputs": [
    {
     "name": "stdout",
     "output_type": "stream",
     "text": [
      "loss at epoch 0: 0.9682767987251282\n",
      "loss at epoch 10000: -9.337098121643066\n",
      "loss at epoch 20000: -9.146843910217285\n"
     ]
    }
   ],
   "source": [
    "#model.train_model(save_path='./embedding_autoencoder_30k_epochs',num_epochs=30000,epoch_print_intvl=10000)"
   ]
  },
  {
   "cell_type": "code",
   "execution_count": 14,
   "metadata": {},
   "outputs": [
    {
     "data": {
      "image/png": "[encoded data removed]",
      "text/plain": [
       "<Figure size 432x288 with 1 Axes>"
      ]
     },
     "metadata": {},
     "output_type": "display_data"
    }
   ],
   "source": [
    "fig, ax = plt.subplots()\n",
    "\n",
    "ax.plot(model.training_loss)\n",
    "ax.set_ylabel('loss')\n",
    "ax.set_xlabel('epoch')\n",
    "\n",
    "plt.show()"
   ]
  },
  {
   "cell_type": "markdown",
   "metadata": {},
   "source": [
    "# Switch to test set\n",
    "and run forward prop"
   ]
  },
  {
   "cell_type": "code",
   "execution_count": 7,
   "metadata": {},
   "outputs": [
    {
     "name": "stdout",
     "output_type": "stream",
     "text": [
      "INFO:tensorflow:Restoring parameters from ./model_objects/embedding_autoencoder_30k_epochs.ckpt\n",
      "Model restored.\n"
     ]
    }
   ],
   "source": [
    "model.forward_prop_test_set('./model_objects/embedding_autoencoder_30k_epochs.ckpt')"
   ]
  },
  {
   "cell_type": "code",
   "execution_count": 8,
   "metadata": {},
   "outputs": [],
   "source": [
    "tree = BallTree(model.test_set_embeddings)"
   ]
  },
  {
   "cell_type": "code",
   "execution_count": 9,
   "metadata": {},
   "outputs": [
    {
     "name": "stdout",
     "output_type": "stream",
     "text": [
      "INITIAL TWEET\n",
      "33446\t1\ttwittermention I would like to join your company too \n",
      "\n",
      "MOST SIMILAR TWEETS (index, sentiment, tweet):\n",
      "95595\t0\tI would hate to be manny right now \n",
      "76179\t0\tI want it to be november 14th already... \n",
      "91347\t0\tI dont want to live like this anymore \n",
      "97907\t0\ti don't want to go to work!!  boo  \n",
      "50392\t1\ttwittermention  i was trying to help you! happy birthday.\n",
      "58163\t0\tI don't want to turn my picture green \n",
      "97282\t0\ttwittermention i wanna go to the transworld awards with yoouuu \n",
      "59293\t0\tI really wanted to see jimmy this weekend \n",
      "35688\t1\ttwittermention i can't wait to only clean one apartment. \n"
     ]
    }
   ],
   "source": [
    "utils.query_most_similar_twts(model, tree, 10, 100000,33446)"
   ]
  },
  {
   "cell_type": "code",
   "execution_count": 11,
   "metadata": {},
   "outputs": [
    {
     "name": "stdout",
     "output_type": "stream",
     "text": [
      "INITIAL TWEET\n",
      "67999\t1\ttwittermention and u call me a tv junkie lor!!!!!!!!!! \n",
      "\n",
      "MOST SIMILAR TWEETS (index, sentiment, tweet):\n",
      "49583\t1\t@7726 You just saved me a whole lotta questioning.. \n",
      "52088\t1\ttwittermention can you teach me a cool dance routine \n",
      "96852\t0\ttwittermention thanks 4 dogging me 2 times fuck bag \n",
      "68611\t0\tThe rain followed me home n won't leave \n",
      "29794\t1\tEveryone follow twittermention. It's a truly wonderful cause. \n",
      "99334\t0\tjust found out about a friend's predicament. sad \n",
      "58433\t1\tWith twittermention..cheering me up  .... I miss twittermention.\n",
      "44297\t1\ttwittermention MUHAZ! Smutty!  I love being a smutty, don't you?\n",
      "23180\t0\tThey won't let me take my phone camping \n"
     ]
    }
   ],
   "source": [
    "utils.query_most_similar_twts(model, tree, 10, 100000)"
   ]
  },
  {
   "cell_type": "code",
   "execution_count": 10,
   "metadata": {},
   "outputs": [
    {
     "name": "stdout",
     "output_type": "stream",
     "text": [
      "INITIAL TWEET\n",
      "57968\t1\ttwittermention ehehe  soo.... i love him, ill shoot the open happiness into my veins with him yeah haha\n",
      "\n",
      "MOST SIMILAR TWEETS (index, sentiment, tweet):\n",
      "14448\t1\tjazkidding/staree - staree: hi  soo, i love that you love ron&amp;hermoine. and since i read your other post... URL\n",
      "78813\t1\ttwittermention Thank you! I love the picture and the reminder take out the burnables! You're the best! So cute!  \n",
      "16658\t0\ttwittermention OMG! I love Laser Tag!! We don't have one in Alaska anymore  It's depressing. #squarespace #trackle\n",
      "55782\t1\tPretty much just won my third game of beer pong with my amazing partner steve. Undefeated bitches. \n",
      "36443\t1\ttwittermention ^-^ i love you too! You should go twittermention will keep your kids for you  Haha\n",
      "62897\t1\tlove life love ur self fuck the rest u the best always tell ur self that \n",
      "33643\t0\tOk. So I just got tweetdeck... LOVE the look and the use.. But.. Where's the trending topics? \n",
      "84072\t0\ttwittermention  Aww  I always hated going to the dentist. I hope you feel better soon. &lt;3\n",
      "47809\t1\ttwittermention haha well i prefer more hip hop and rap music over rock. rock can be good but \n"
     ]
    }
   ],
   "source": [
    "# good example tweet, where prediction encoder performs best\n",
    "utils.query_most_similar_twts(model, tree, 10, model.df_test.shape[0], index=57968)\n",
    "#57968"
   ]
  },
  {
   "cell_type": "code",
   "execution_count": null,
   "metadata": {},
   "outputs": [],
   "source": []
  },
  {
   "cell_type": "code",
   "execution_count": 12,
   "metadata": {},
   "outputs": [],
   "source": [
    "len_embed = model.test_set_embeddings.shape[0]"
   ]
  },
  {
   "cell_type": "code",
   "execution_count": 40,
   "metadata": {},
   "outputs": [
    {
     "name": "stdout",
     "output_type": "stream",
     "text": [
      "INITIAL TWEET\n",
      "30251\ttwittermention winnnn I'm the first person that came here. No one here \n",
      "\n",
      "MOST SIMILAR TWEETS:\n",
      "24716\tTears of a clown when there's no one around \n",
      "98304\tJust saw someone that looked like Davie Dickson lmao \n",
      "59133\ttwittermention the ducks aren't there anymore. I think they've been abDUCKted \n",
      "18435\ttwittermention twittermention what's that? The sun? No sign here \n",
      "3406\tthe last titanic survivor died..  no more titanic survivors..... \n",
      "72024\tthe apprentice was sooooo good, sad it's over now \n",
      "13009\ttwittermention the oneself makes us both crazier, don't you think? \n",
      "96936\ttwittermention the tickets r only $10  and they're absolutely amazing ! \n",
      "34010\ttwittermention the person who I'm going with has seen it! \n"
     ]
    }
   ],
   "source": [
    "r = np.random.randint(0,len_embed)\n",
    "sim_score, sim_idxs = tree.query([model.test_set_embeddings[r]],k=10)\n",
    "\n",
    "print('INITIAL TWEET\\n{}\\t{}\\n'.format(r,model.df_test['normed_text'].iloc[sim_idxs[0][0]]))\n",
    "print('MOST SIMILAR TWEETS:')\n",
    "sim_idxs[0]\n",
    "for i, sim_ix in enumerate(sim_idxs[0][1:]):\n",
    "    #print(sim_ix)\n",
    "    print('{}\\t{}'.format(sim_ix, model.df_test['normed_text'].iloc[sim_ix]))"
   ]
  },
  {
   "cell_type": "code",
   "execution_count": 16,
   "metadata": {},
   "outputs": [
    {
     "data": {
      "text/plain": [
       "array([33286, 41122, 98522, 11583, 97595, 12894, 40765, 94544,  2009,\n",
       "       23220])"
      ]
     },
     "execution_count": 16,
     "metadata": {},
     "output_type": "execute_result"
    }
   ],
   "source": [
    "sim_idxs[0]"
   ]
  },
  {
   "cell_type": "code",
   "execution_count": null,
   "metadata": {},
   "outputs": [],
   "source": [
    "test_set_embeddings = np.zeros([64 * 20000,100000])\n",
    "with tf.Session() as sess:\n",
    "  # Restore variables from disk.\n",
    "    self.saver.restore(sess, ckpt_path)\n",
    "    print(\"Model restored.\")\n",
    "    sess.run([self.test_init_op])\n",
    "    for epoch in range(num_epochs):\n",
    "        emb_temp = sess.run([self.enc_flat])[0]\n",
    "        test_set_embeddings[epoch *\n",
    "                   self.batch_size:(epoch+1)*self.batch_size] = emb_temp\n",
    "    emb_temp = emb_temp[self.enc_flat.shape[0],:]\n",
    "self.test_set_embeddings = test_set_embeddings[0:self.enc_flat.shape[0],:] #subset original shape otherwise will have repeated embeddings\n"
   ]
  },
  {
   "cell_type": "code",
   "execution_count": 36,
   "metadata": {},
   "outputs": [
    {
     "data": {
      "text/plain": [
       "(array([[ 0.        , 12.02980436, 12.58198554, 13.02275763, 13.02275763,\n",
       "         13.06038048, 13.06128675, 13.16014137, 13.37007226, 13.52872438]]),\n",
       " array([[ 41938,  35581,  32584,  17041, 117041,  81049,  84218,  81442,\n",
       "          88042,  11492]]))"
      ]
     },
     "execution_count": 36,
     "metadata": {},
     "output_type": "execute_result"
    }
   ],
   "source": [
    "sim_score, sim_idxs"
   ]
  },
  {
   "cell_type": "code",
   "execution_count": 34,
   "metadata": {},
   "outputs": [
    {
     "data": {
      "text/html": [
       "<div>\n",
       "<style scoped>\n",
       "    .dataframe tbody tr th:only-of-type {\n",
       "        vertical-align: middle;\n",
       "    }\n",
       "\n",
       "    .dataframe tbody tr th {\n",
       "        vertical-align: top;\n",
       "    }\n",
       "\n",
       "    .dataframe thead th {\n",
       "        text-align: right;\n",
       "    }\n",
       "</style>\n",
       "<table border=\"1\" class=\"dataframe\">\n",
       "  <thead>\n",
       "    <tr style=\"text-align: right;\">\n",
       "      <th></th>\n",
       "      <th>ItemID</th>\n",
       "      <th>Sentiment</th>\n",
       "      <th>SentimentSource</th>\n",
       "      <th>SentimentText</th>\n",
       "      <th>normed_text</th>\n",
       "    </tr>\n",
       "  </thead>\n",
       "  <tbody>\n",
       "    <tr>\n",
       "      <th>93952</th>\n",
       "      <td>93965</td>\n",
       "      <td>0</td>\n",
       "      <td>Sentiment140</td>\n",
       "      <td>@BD_24 lol and I'm stuffed!!! Wish I hadn't ea...</td>\n",
       "      <td>twittermention lol and I'm stuffed!!! Wish I h...</td>\n",
       "    </tr>\n",
       "    <tr>\n",
       "      <th>957355</th>\n",
       "      <td>957371</td>\n",
       "      <td>0</td>\n",
       "      <td>Sentiment140</td>\n",
       "      <td>Indoors indoors. I guess I can't go outside th...</td>\n",
       "      <td>Indoors indoors. I guess I can't go outside th...</td>\n",
       "    </tr>\n",
       "    <tr>\n",
       "      <th>722799</th>\n",
       "      <td>722815</td>\n",
       "      <td>0</td>\n",
       "      <td>Sentiment140</td>\n",
       "      <td>Finally home. Training at 10 am in Waterbury t...</td>\n",
       "      <td>Finally home. Training at 10 am in Waterbury t...</td>\n",
       "    </tr>\n",
       "    <tr>\n",
       "      <th>48271</th>\n",
       "      <td>48284</td>\n",
       "      <td>1</td>\n",
       "      <td>Sentiment140</td>\n",
       "      <td>@alwayssmiling yeah~it is. really! Do you like...</td>\n",
       "      <td>twittermention yeah~it is. really! Do you like...</td>\n",
       "    </tr>\n",
       "    <tr>\n",
       "      <th>770250</th>\n",
       "      <td>770266</td>\n",
       "      <td>1</td>\n",
       "      <td>Sentiment140</td>\n",
       "      <td>http://twitpic.com/2ydkg - Time to bust out th...</td>\n",
       "      <td>URL - Time to bust out the Green Wing</td>\n",
       "    </tr>\n",
       "    <tr>\n",
       "      <th>446532</th>\n",
       "      <td>446545</td>\n",
       "      <td>1</td>\n",
       "      <td>Sentiment140</td>\n",
       "      <td>@texanoutofwater I found a better pen around t...</td>\n",
       "      <td>twittermention I found a better pen around the...</td>\n",
       "    </tr>\n",
       "    <tr>\n",
       "      <th>1549950</th>\n",
       "      <td>1549966</td>\n",
       "      <td>0</td>\n",
       "      <td>Sentiment140</td>\n",
       "      <td>Time to go to work...ugh.  Oh, and by the way....</td>\n",
       "      <td>Time to go to work...ugh.  Oh, and by the way....</td>\n",
       "    </tr>\n",
       "    <tr>\n",
       "      <th>871734</th>\n",
       "      <td>871750</td>\n",
       "      <td>1</td>\n",
       "      <td>Sentiment140</td>\n",
       "      <td>@JeffJimenezLulu just a stomach bug... spoke t...</td>\n",
       "      <td>twittermention just a stomach bug... spoke to ...</td>\n",
       "    </tr>\n",
       "    <tr>\n",
       "      <th>134087</th>\n",
       "      <td>134100</td>\n",
       "      <td>0</td>\n",
       "      <td>Sentiment140</td>\n",
       "      <td>@CMNHTN He did, and I didn't care for it.</td>\n",
       "      <td>twittermention He did, and I didn't care for it.</td>\n",
       "    </tr>\n",
       "    <tr>\n",
       "      <th>68881</th>\n",
       "      <td>68894</td>\n",
       "      <td>0</td>\n",
       "      <td>Sentiment140</td>\n",
       "      <td>@anamolly I wish my day were like that...I'm h...</td>\n",
       "      <td>twittermention I wish my day were like that......</td>\n",
       "    </tr>\n",
       "    <tr>\n",
       "      <th>112828</th>\n",
       "      <td>112841</td>\n",
       "      <td>1</td>\n",
       "      <td>Sentiment140</td>\n",
       "      <td>@dawn_16 hey there - so what did u get finishe...</td>\n",
       "      <td>twittermention hey there - so what did u get f...</td>\n",
       "    </tr>\n",
       "    <tr>\n",
       "      <th>1312436</th>\n",
       "      <td>1312452</td>\n",
       "      <td>0</td>\n",
       "      <td>Sentiment140</td>\n",
       "      <td>Yumm slurpee! I want the new JB CD sooooooo ba...</td>\n",
       "      <td>Yumm slurpee! I want the new JB CD sooooooo ba...</td>\n",
       "    </tr>\n",
       "    <tr>\n",
       "      <th>473280</th>\n",
       "      <td>473293</td>\n",
       "      <td>1</td>\n",
       "      <td>Sentiment140</td>\n",
       "      <td>@unmarketing Ha, funny, I was just going throu...</td>\n",
       "      <td>twittermention Ha, funny, I was just going thr...</td>\n",
       "    </tr>\n",
       "    <tr>\n",
       "      <th>1129649</th>\n",
       "      <td>1129665</td>\n",
       "      <td>1</td>\n",
       "      <td>Sentiment140</td>\n",
       "      <td>SCOREEEEE! TMNT is onnn</td>\n",
       "      <td>SCOREEEEE! TMNT is onnn</td>\n",
       "    </tr>\n",
       "    <tr>\n",
       "      <th>122599</th>\n",
       "      <td>122612</td>\n",
       "      <td>0</td>\n",
       "      <td>Sentiment140</td>\n",
       "      <td>@DevourerofBooks Yup, I post stuff either befo...</td>\n",
       "      <td>twittermention Yup, I post stuff either before...</td>\n",
       "    </tr>\n",
       "    <tr>\n",
       "      <th>1527090</th>\n",
       "      <td>1527106</td>\n",
       "      <td>0</td>\n",
       "      <td>Sentiment140</td>\n",
       "      <td>Sad that I had to leave Suzy at the vet's for ...</td>\n",
       "      <td>Sad that I had to leave Suzy at the vet's for ...</td>\n",
       "    </tr>\n",
       "    <tr>\n",
       "      <th>1365752</th>\n",
       "      <td>1365768</td>\n",
       "      <td>1</td>\n",
       "      <td>Sentiment140</td>\n",
       "      <td>A goodnight nurse for you @Flow oh I mean good...</td>\n",
       "      <td>A goodnight nurse for you twittermention oh I ...</td>\n",
       "    </tr>\n",
       "    <tr>\n",
       "      <th>293794</th>\n",
       "      <td>293807</td>\n",
       "      <td>0</td>\n",
       "      <td>Sentiment140</td>\n",
       "      <td>@magnifikka sis, still can't find the chuvaness</td>\n",
       "      <td>twittermention sis, still can't find the chuva...</td>\n",
       "    </tr>\n",
       "    <tr>\n",
       "      <th>787592</th>\n",
       "      <td>787608</td>\n",
       "      <td>1</td>\n",
       "      <td>Sentiment140</td>\n",
       "      <td>@faerywitch thanks coty for spreading the word</td>\n",
       "      <td>twittermention thanks coty for spreading the w...</td>\n",
       "    </tr>\n",
       "    <tr>\n",
       "      <th>158342</th>\n",
       "      <td>158355</td>\n",
       "      <td>1</td>\n",
       "      <td>Sentiment140</td>\n",
       "      <td>@Felitherandom  yeap. The cast had a day off a...</td>\n",
       "      <td>twittermention  yeap. The cast had a day off a...</td>\n",
       "    </tr>\n",
       "    <tr>\n",
       "      <th>721161</th>\n",
       "      <td>721177</td>\n",
       "      <td>1</td>\n",
       "      <td>Sentiment140</td>\n",
       "      <td>@Dannymcfly is in the trending topics, how coo...</td>\n",
       "      <td>twittermention is in the trending topics, how ...</td>\n",
       "    </tr>\n",
       "    <tr>\n",
       "      <th>343856</th>\n",
       "      <td>343869</td>\n",
       "      <td>0</td>\n",
       "      <td>Sentiment140</td>\n",
       "      <td>@NewerDeal they are forcing ot at your job and...</td>\n",
       "      <td>twittermention they are forcing ot at your job...</td>\n",
       "    </tr>\n",
       "    <tr>\n",
       "      <th>439892</th>\n",
       "      <td>439905</td>\n",
       "      <td>0</td>\n",
       "      <td>Sentiment140</td>\n",
       "      <td>@PoynterJones yup thats true</td>\n",
       "      <td>twittermention yup thats true</td>\n",
       "    </tr>\n",
       "    <tr>\n",
       "      <th>49814</th>\n",
       "      <td>49827</td>\n",
       "      <td>1</td>\n",
       "      <td>Sentiment140</td>\n",
       "      <td>@amandagreen doesn't ring a bell for me, but i...</td>\n",
       "      <td>twittermention doesn't ring a bell for me, but...</td>\n",
       "    </tr>\n",
       "    <tr>\n",
       "      <th>289857</th>\n",
       "      <td>289870</td>\n",
       "      <td>1</td>\n",
       "      <td>Sentiment140</td>\n",
       "      <td>@MakeUpByBrooke i commented. hope that helps!</td>\n",
       "      <td>twittermention i commented. hope that helps!</td>\n",
       "    </tr>\n",
       "    <tr>\n",
       "      <th>818368</th>\n",
       "      <td>818384</td>\n",
       "      <td>0</td>\n",
       "      <td>Sentiment140</td>\n",
       "      <td>I got the sniffles a few days ago.  Boo</td>\n",
       "      <td>I got the sniffles a few days ago.  Boo</td>\n",
       "    </tr>\n",
       "    <tr>\n",
       "      <th>1456117</th>\n",
       "      <td>1456133</td>\n",
       "      <td>1</td>\n",
       "      <td>Sentiment140</td>\n",
       "      <td>i'll be playing SIMS 3 again! COOL</td>\n",
       "      <td>i'll be playing SIMS 3 again! COOL</td>\n",
       "    </tr>\n",
       "    <tr>\n",
       "      <th>328270</th>\n",
       "      <td>328283</td>\n",
       "      <td>1</td>\n",
       "      <td>Sentiment140</td>\n",
       "      <td>@mr_nil result! My better half doesn't mind Wo...</td>\n",
       "      <td>twittermention result! My better half doesn't ...</td>\n",
       "    </tr>\n",
       "    <tr>\n",
       "      <th>607335</th>\n",
       "      <td>607351</td>\n",
       "      <td>1</td>\n",
       "      <td>Sentiment140</td>\n",
       "      <td>@AshleyLTMSYF Ashley ..  love you at Jakarta l...</td>\n",
       "      <td>twittermention Ashley ..  love you at Jakarta ...</td>\n",
       "    </tr>\n",
       "    <tr>\n",
       "      <th>154893</th>\n",
       "      <td>154906</td>\n",
       "      <td>1</td>\n",
       "      <td>Sentiment140</td>\n",
       "      <td>@ddlovato what about ur album being called lov...</td>\n",
       "      <td>twittermention what about ur album being calle...</td>\n",
       "    </tr>\n",
       "    <tr>\n",
       "      <th>...</th>\n",
       "      <td>...</td>\n",
       "      <td>...</td>\n",
       "      <td>...</td>\n",
       "      <td>...</td>\n",
       "      <td>...</td>\n",
       "    </tr>\n",
       "    <tr>\n",
       "      <th>1350049</th>\n",
       "      <td>1350065</td>\n",
       "      <td>1</td>\n",
       "      <td>Sentiment140</td>\n",
       "      <td>Yum pinkberry!</td>\n",
       "      <td>Yum pinkberry!</td>\n",
       "    </tr>\n",
       "    <tr>\n",
       "      <th>1210855</th>\n",
       "      <td>1210871</td>\n",
       "      <td>0</td>\n",
       "      <td>Sentiment140</td>\n",
       "      <td>Sometimes I hate em but I know I love him....</td>\n",
       "      <td>Sometimes I hate em but I know I love him....</td>\n",
       "    </tr>\n",
       "    <tr>\n",
       "      <th>398096</th>\n",
       "      <td>398109</td>\n",
       "      <td>1</td>\n",
       "      <td>Sentiment140</td>\n",
       "      <td>@robertreyez Happy Birthday dear Rob  *kiss*</td>\n",
       "      <td>twittermention Happy Birthday dear Rob  *kiss*</td>\n",
       "    </tr>\n",
       "    <tr>\n",
       "      <th>635198</th>\n",
       "      <td>635214</td>\n",
       "      <td>0</td>\n",
       "      <td>Sentiment140</td>\n",
       "      <td>dj's paw is still messed up &amp;amp; my mom doesn...</td>\n",
       "      <td>dj's paw is still messed up &amp;amp; my mom doesn...</td>\n",
       "    </tr>\n",
       "    <tr>\n",
       "      <th>1154725</th>\n",
       "      <td>1154741</td>\n",
       "      <td>0</td>\n",
       "      <td>Sentiment140</td>\n",
       "      <td>@popstarmagazine that's cool I'm going on a cr...</td>\n",
       "      <td>twittermention that's cool I'm going on a crew...</td>\n",
       "    </tr>\n",
       "    <tr>\n",
       "      <th>127648</th>\n",
       "      <td>127661</td>\n",
       "      <td>0</td>\n",
       "      <td>Sentiment140</td>\n",
       "      <td>@dltodd62 @lgriff4     I know, it seems to get...</td>\n",
       "      <td>twittermention twittermention     I know, it s...</td>\n",
       "    </tr>\n",
       "    <tr>\n",
       "      <th>652050</th>\n",
       "      <td>652066</td>\n",
       "      <td>0</td>\n",
       "      <td>Sentiment140</td>\n",
       "      <td>Doesn't no why she's still wiv her bloke sumti...</td>\n",
       "      <td>Doesn't no why she's still wiv her bloke sumti...</td>\n",
       "    </tr>\n",
       "    <tr>\n",
       "      <th>295530</th>\n",
       "      <td>295543</td>\n",
       "      <td>1</td>\n",
       "      <td>Sentiment140</td>\n",
       "      <td>@Juniorholic I do want to listen to the new DM...</td>\n",
       "      <td>twittermention I do want to listen to the new ...</td>\n",
       "    </tr>\n",
       "    <tr>\n",
       "      <th>1098675</th>\n",
       "      <td>1098691</td>\n",
       "      <td>0</td>\n",
       "      <td>Sentiment140</td>\n",
       "      <td>not I'm inebriated on this good Sunday nite . ...</td>\n",
       "      <td>not I'm inebriated on this good Sunday nite . ...</td>\n",
       "    </tr>\n",
       "    <tr>\n",
       "      <th>709477</th>\n",
       "      <td>709493</td>\n",
       "      <td>1</td>\n",
       "      <td>Sentiment140</td>\n",
       "      <td>@Conorgs gimme link wanna see it</td>\n",
       "      <td>twittermention gimme link wanna see it</td>\n",
       "    </tr>\n",
       "    <tr>\n",
       "      <th>343712</th>\n",
       "      <td>343725</td>\n",
       "      <td>1</td>\n",
       "      <td>Sentiment140</td>\n",
       "      <td>@newjorgeposada Good, All-Star Vibrations to J...</td>\n",
       "      <td>twittermention Good, All-Star Vibrations to Jo...</td>\n",
       "    </tr>\n",
       "    <tr>\n",
       "      <th>764970</th>\n",
       "      <td>764986</td>\n",
       "      <td>1</td>\n",
       "      <td>Sentiment140</td>\n",
       "      <td>havingg a deep convo wif someone and no iits n...</td>\n",
       "      <td>havingg a deep convo wif someone and no iits n...</td>\n",
       "    </tr>\n",
       "    <tr>\n",
       "      <th>741595</th>\n",
       "      <td>741611</td>\n",
       "      <td>1</td>\n",
       "      <td>Sentiment140</td>\n",
       "      <td>had a incredible day! - good things</td>\n",
       "      <td>had a incredible day! - good things</td>\n",
       "    </tr>\n",
       "    <tr>\n",
       "      <th>1019792</th>\n",
       "      <td>1019808</td>\n",
       "      <td>1</td>\n",
       "      <td>Sentiment140</td>\n",
       "      <td>my love by westlife is freaking good</td>\n",
       "      <td>my love by westlife is freaking good</td>\n",
       "    </tr>\n",
       "    <tr>\n",
       "      <th>653899</th>\n",
       "      <td>653915</td>\n",
       "      <td>1</td>\n",
       "      <td>Sentiment140</td>\n",
       "      <td>Exhausted! Not even far on the paper but it's ...</td>\n",
       "      <td>Exhausted! Not even far on the paper but it's ...</td>\n",
       "    </tr>\n",
       "    <tr>\n",
       "      <th>239275</th>\n",
       "      <td>239288</td>\n",
       "      <td>1</td>\n",
       "      <td>Sentiment140</td>\n",
       "      <td>@hollow87 I knew you'd crack under the pressur...</td>\n",
       "      <td>twittermention I knew you'd crack under the pr...</td>\n",
       "    </tr>\n",
       "    <tr>\n",
       "      <th>1100628</th>\n",
       "      <td>1100644</td>\n",
       "      <td>0</td>\n",
       "      <td>Sentiment140</td>\n",
       "      <td>Ngg, I hate showers when it's cold.</td>\n",
       "      <td>Ngg, I hate showers when it's cold.</td>\n",
       "    </tr>\n",
       "    <tr>\n",
       "      <th>226102</th>\n",
       "      <td>226115</td>\n",
       "      <td>1</td>\n",
       "      <td>Sentiment140</td>\n",
       "      <td>@jjprojects surely there's more to complain ab...</td>\n",
       "      <td>twittermention surely there's more to complain...</td>\n",
       "    </tr>\n",
       "    <tr>\n",
       "      <th>1088435</th>\n",
       "      <td>1088451</td>\n",
       "      <td>1</td>\n",
       "      <td>Sentiment140</td>\n",
       "      <td>nice cool sunny day not as hot as yday but sti...</td>\n",
       "      <td>nice cool sunny day not as hot as yday but sti...</td>\n",
       "    </tr>\n",
       "    <tr>\n",
       "      <th>78990</th>\n",
       "      <td>79003</td>\n",
       "      <td>1</td>\n",
       "      <td>Sentiment140</td>\n",
       "      <td>@celebby  imu2. - but uhm i d k you tell me.</td>\n",
       "      <td>twittermention  imu2. - but uhm i d k you tell...</td>\n",
       "    </tr>\n",
       "    <tr>\n",
       "      <th>1569814</th>\n",
       "      <td>1569830</td>\n",
       "      <td>1</td>\n",
       "      <td>Sentiment140</td>\n",
       "      <td>Will be leaving for Thakur Village in Kandivli...</td>\n",
       "      <td>Will be leaving for Thakur Village in Kandivli...</td>\n",
       "    </tr>\n",
       "    <tr>\n",
       "      <th>732985</th>\n",
       "      <td>733001</td>\n",
       "      <td>1</td>\n",
       "      <td>Sentiment140</td>\n",
       "      <td>@derdan might be interested to know they eat z...</td>\n",
       "      <td>twittermention might be interested to know the...</td>\n",
       "    </tr>\n",
       "    <tr>\n",
       "      <th>854722</th>\n",
       "      <td>854738</td>\n",
       "      <td>0</td>\n",
       "      <td>Sentiment140</td>\n",
       "      <td>@IVIFKID i wuvv yoo</td>\n",
       "      <td>twittermention i wuvv yoo</td>\n",
       "    </tr>\n",
       "    <tr>\n",
       "      <th>341471</th>\n",
       "      <td>341484</td>\n",
       "      <td>1</td>\n",
       "      <td>Sentiment140</td>\n",
       "      <td>@NathanFlores17 Yea. Btw, thanks for following...</td>\n",
       "      <td>twittermention Yea. Btw, thanks for following ...</td>\n",
       "    </tr>\n",
       "    <tr>\n",
       "      <th>349804</th>\n",
       "      <td>349817</td>\n",
       "      <td>0</td>\n",
       "      <td>Sentiment140</td>\n",
       "      <td>@marykatezachary I'llmiss you Mrs.Z!   thanks ...</td>\n",
       "      <td>twittermention I'llmiss you Mrs.Z!   thanks fo...</td>\n",
       "    </tr>\n",
       "    <tr>\n",
       "      <th>727519</th>\n",
       "      <td>727535</td>\n",
       "      <td>1</td>\n",
       "      <td>Sentiment140</td>\n",
       "      <td>Good night Twitter friends! Thanks for letting...</td>\n",
       "      <td>Good night Twitter friends! Thanks for letting...</td>\n",
       "    </tr>\n",
       "    <tr>\n",
       "      <th>454498</th>\n",
       "      <td>454511</td>\n",
       "      <td>1</td>\n",
       "      <td>Sentiment140</td>\n",
       "      <td>@stitchsista but when youre up till 1.00 am do...</td>\n",
       "      <td>twittermention but when youre up till 1.00 am ...</td>\n",
       "    </tr>\n",
       "    <tr>\n",
       "      <th>712441</th>\n",
       "      <td>712457</td>\n",
       "      <td>0</td>\n",
       "      <td>Sentiment140</td>\n",
       "      <td>Great first impressions about the little netbo...</td>\n",
       "      <td>Great first impressions about the little netbo...</td>\n",
       "    </tr>\n",
       "    <tr>\n",
       "      <th>560377</th>\n",
       "      <td>560393</td>\n",
       "      <td>1</td>\n",
       "      <td>Sentiment140</td>\n",
       "      <td>@xfftl8myheartx on my way</td>\n",
       "      <td>twittermention on my way</td>\n",
       "    </tr>\n",
       "    <tr>\n",
       "      <th>379912</th>\n",
       "      <td>379925</td>\n",
       "      <td>1</td>\n",
       "      <td>Sentiment140</td>\n",
       "      <td>@ppittman hehehe wait until we get back from t...</td>\n",
       "      <td>twittermention hehehe wait until we get back f...</td>\n",
       "    </tr>\n",
       "  </tbody>\n",
       "</table>\n",
       "<p>100000 rows × 5 columns</p>\n",
       "</div>"
      ],
      "text/plain": [
       "          ItemID  Sentiment SentimentSource  \\\n",
       "93952      93965          0    Sentiment140   \n",
       "957355    957371          0    Sentiment140   \n",
       "722799    722815          0    Sentiment140   \n",
       "48271      48284          1    Sentiment140   \n",
       "770250    770266          1    Sentiment140   \n",
       "446532    446545          1    Sentiment140   \n",
       "1549950  1549966          0    Sentiment140   \n",
       "871734    871750          1    Sentiment140   \n",
       "134087    134100          0    Sentiment140   \n",
       "68881      68894          0    Sentiment140   \n",
       "112828    112841          1    Sentiment140   \n",
       "1312436  1312452          0    Sentiment140   \n",
       "473280    473293          1    Sentiment140   \n",
       "1129649  1129665          1    Sentiment140   \n",
       "122599    122612          0    Sentiment140   \n",
       "1527090  1527106          0    Sentiment140   \n",
       "1365752  1365768          1    Sentiment140   \n",
       "293794    293807          0    Sentiment140   \n",
       "787592    787608          1    Sentiment140   \n",
       "158342    158355          1    Sentiment140   \n",
       "721161    721177          1    Sentiment140   \n",
       "343856    343869          0    Sentiment140   \n",
       "439892    439905          0    Sentiment140   \n",
       "49814      49827          1    Sentiment140   \n",
       "289857    289870          1    Sentiment140   \n",
       "818368    818384          0    Sentiment140   \n",
       "1456117  1456133          1    Sentiment140   \n",
       "328270    328283          1    Sentiment140   \n",
       "607335    607351          1    Sentiment140   \n",
       "154893    154906          1    Sentiment140   \n",
       "...          ...        ...             ...   \n",
       "1350049  1350065          1    Sentiment140   \n",
       "1210855  1210871          0    Sentiment140   \n",
       "398096    398109          1    Sentiment140   \n",
       "635198    635214          0    Sentiment140   \n",
       "1154725  1154741          0    Sentiment140   \n",
       "127648    127661          0    Sentiment140   \n",
       "652050    652066          0    Sentiment140   \n",
       "295530    295543          1    Sentiment140   \n",
       "1098675  1098691          0    Sentiment140   \n",
       "709477    709493          1    Sentiment140   \n",
       "343712    343725          1    Sentiment140   \n",
       "764970    764986          1    Sentiment140   \n",
       "741595    741611          1    Sentiment140   \n",
       "1019792  1019808          1    Sentiment140   \n",
       "653899    653915          1    Sentiment140   \n",
       "239275    239288          1    Sentiment140   \n",
       "1100628  1100644          0    Sentiment140   \n",
       "226102    226115          1    Sentiment140   \n",
       "1088435  1088451          1    Sentiment140   \n",
       "78990      79003          1    Sentiment140   \n",
       "1569814  1569830          1    Sentiment140   \n",
       "732985    733001          1    Sentiment140   \n",
       "854722    854738          0    Sentiment140   \n",
       "341471    341484          1    Sentiment140   \n",
       "349804    349817          0    Sentiment140   \n",
       "727519    727535          1    Sentiment140   \n",
       "454498    454511          1    Sentiment140   \n",
       "712441    712457          0    Sentiment140   \n",
       "560377    560393          1    Sentiment140   \n",
       "379912    379925          1    Sentiment140   \n",
       "\n",
       "                                             SentimentText  \\\n",
       "93952    @BD_24 lol and I'm stuffed!!! Wish I hadn't ea...   \n",
       "957355   Indoors indoors. I guess I can't go outside th...   \n",
       "722799   Finally home. Training at 10 am in Waterbury t...   \n",
       "48271    @alwayssmiling yeah~it is. really! Do you like...   \n",
       "770250   http://twitpic.com/2ydkg - Time to bust out th...   \n",
       "446532   @texanoutofwater I found a better pen around t...   \n",
       "1549950  Time to go to work...ugh.  Oh, and by the way....   \n",
       "871734   @JeffJimenezLulu just a stomach bug... spoke t...   \n",
       "134087          @CMNHTN He did, and I didn't care for it.    \n",
       "68881    @anamolly I wish my day were like that...I'm h...   \n",
       "112828   @dawn_16 hey there - so what did u get finishe...   \n",
       "1312436  Yumm slurpee! I want the new JB CD sooooooo ba...   \n",
       "473280   @unmarketing Ha, funny, I was just going throu...   \n",
       "1129649                           SCOREEEEE! TMNT is onnn    \n",
       "122599   @DevourerofBooks Yup, I post stuff either befo...   \n",
       "1527090  Sad that I had to leave Suzy at the vet's for ...   \n",
       "1365752  A goodnight nurse for you @Flow oh I mean good...   \n",
       "293794    @magnifikka sis, still can't find the chuvaness    \n",
       "787592     @faerywitch thanks coty for spreading the word    \n",
       "158342   @Felitherandom  yeap. The cast had a day off a...   \n",
       "721161   @Dannymcfly is in the trending topics, how coo...   \n",
       "343856   @NewerDeal they are forcing ot at your job and...   \n",
       "439892                       @PoynterJones yup thats true    \n",
       "49814    @amandagreen doesn't ring a bell for me, but i...   \n",
       "289857      @MakeUpByBrooke i commented. hope that helps!    \n",
       "818368           I got the sniffles a few days ago.  Boo     \n",
       "1456117                i'll be playing SIMS 3 again! COOL    \n",
       "328270   @mr_nil result! My better half doesn't mind Wo...   \n",
       "607335   @AshleyLTMSYF Ashley ..  love you at Jakarta l...   \n",
       "154893   @ddlovato what about ur album being called lov...   \n",
       "...                                                    ...   \n",
       "1350049                                    Yum pinkberry!    \n",
       "1210855   Sometimes I hate em but I know I love him....      \n",
       "398096        @robertreyez Happy Birthday dear Rob  *kiss*   \n",
       "635198   dj's paw is still messed up &amp; my mom doesn...   \n",
       "1154725  @popstarmagazine that's cool I'm going on a cr...   \n",
       "127648   @dltodd62 @lgriff4     I know, it seems to get...   \n",
       "652050   Doesn't no why she's still wiv her bloke sumti...   \n",
       "295530   @Juniorholic I do want to listen to the new DM...   \n",
       "1098675  not I'm inebriated on this good Sunday nite . ...   \n",
       "709477                   @Conorgs gimme link wanna see it    \n",
       "343712   @newjorgeposada Good, All-Star Vibrations to J...   \n",
       "764970   havingg a deep convo wif someone and no iits n...   \n",
       "741595                had a incredible day! - good things    \n",
       "1019792              my love by westlife is freaking good    \n",
       "653899   Exhausted! Not even far on the paper but it's ...   \n",
       "239275   @hollow87 I knew you'd crack under the pressur...   \n",
       "1100628               Ngg, I hate showers when it's cold.    \n",
       "226102   @jjprojects surely there's more to complain ab...   \n",
       "1088435  nice cool sunny day not as hot as yday but sti...   \n",
       "78990         @celebby  imu2. - but uhm i d k you tell me.   \n",
       "1569814  Will be leaving for Thakur Village in Kandivli...   \n",
       "732985   @derdan might be interested to know they eat z...   \n",
       "854722                                @IVIFKID i wuvv yoo    \n",
       "341471   @NathanFlores17 Yea. Btw, thanks for following...   \n",
       "349804   @marykatezachary I'llmiss you Mrs.Z!   thanks ...   \n",
       "727519   Good night Twitter friends! Thanks for letting...   \n",
       "454498   @stitchsista but when youre up till 1.00 am do...   \n",
       "712441   Great first impressions about the little netbo...   \n",
       "560377                          @xfftl8myheartx on my way    \n",
       "379912   @ppittman hehehe wait until we get back from t...   \n",
       "\n",
       "                                               normed_text  \n",
       "93952    twittermention lol and I'm stuffed!!! Wish I h...  \n",
       "957355   Indoors indoors. I guess I can't go outside th...  \n",
       "722799   Finally home. Training at 10 am in Waterbury t...  \n",
       "48271    twittermention yeah~it is. really! Do you like...  \n",
       "770250              URL - Time to bust out the Green Wing   \n",
       "446532   twittermention I found a better pen around the...  \n",
       "1549950  Time to go to work...ugh.  Oh, and by the way....  \n",
       "871734   twittermention just a stomach bug... spoke to ...  \n",
       "134087   twittermention He did, and I didn't care for it.   \n",
       "68881    twittermention I wish my day were like that......  \n",
       "112828   twittermention hey there - so what did u get f...  \n",
       "1312436  Yumm slurpee! I want the new JB CD sooooooo ba...  \n",
       "473280   twittermention Ha, funny, I was just going thr...  \n",
       "1129649                           SCOREEEEE! TMNT is onnn   \n",
       "122599   twittermention Yup, I post stuff either before...  \n",
       "1527090  Sad that I had to leave Suzy at the vet's for ...  \n",
       "1365752  A goodnight nurse for you twittermention oh I ...  \n",
       "293794   twittermention sis, still can't find the chuva...  \n",
       "787592   twittermention thanks coty for spreading the w...  \n",
       "158342   twittermention  yeap. The cast had a day off a...  \n",
       "721161   twittermention is in the trending topics, how ...  \n",
       "343856   twittermention they are forcing ot at your job...  \n",
       "439892                      twittermention yup thats true   \n",
       "49814    twittermention doesn't ring a bell for me, but...  \n",
       "289857       twittermention i commented. hope that helps!   \n",
       "818368           I got the sniffles a few days ago.  Boo    \n",
       "1456117                i'll be playing SIMS 3 again! COOL   \n",
       "328270   twittermention result! My better half doesn't ...  \n",
       "607335   twittermention Ashley ..  love you at Jakarta ...  \n",
       "154893   twittermention what about ur album being calle...  \n",
       "...                                                    ...  \n",
       "1350049                                    Yum pinkberry!   \n",
       "1210855   Sometimes I hate em but I know I love him....     \n",
       "398096      twittermention Happy Birthday dear Rob  *kiss*  \n",
       "635198   dj's paw is still messed up &amp; my mom doesn...  \n",
       "1154725  twittermention that's cool I'm going on a crew...  \n",
       "127648   twittermention twittermention     I know, it s...  \n",
       "652050   Doesn't no why she's still wiv her bloke sumti...  \n",
       "295530   twittermention I do want to listen to the new ...  \n",
       "1098675  not I'm inebriated on this good Sunday nite . ...  \n",
       "709477             twittermention gimme link wanna see it   \n",
       "343712   twittermention Good, All-Star Vibrations to Jo...  \n",
       "764970   havingg a deep convo wif someone and no iits n...  \n",
       "741595                had a incredible day! - good things   \n",
       "1019792              my love by westlife is freaking good   \n",
       "653899   Exhausted! Not even far on the paper but it's ...  \n",
       "239275   twittermention I knew you'd crack under the pr...  \n",
       "1100628               Ngg, I hate showers when it's cold.   \n",
       "226102   twittermention surely there's more to complain...  \n",
       "1088435  nice cool sunny day not as hot as yday but sti...  \n",
       "78990    twittermention  imu2. - but uhm i d k you tell...  \n",
       "1569814  Will be leaving for Thakur Village in Kandivli...  \n",
       "732985   twittermention might be interested to know the...  \n",
       "854722                          twittermention i wuvv yoo   \n",
       "341471   twittermention Yea. Btw, thanks for following ...  \n",
       "349804   twittermention I'llmiss you Mrs.Z!   thanks fo...  \n",
       "727519   Good night Twitter friends! Thanks for letting...  \n",
       "454498   twittermention but when youre up till 1.00 am ...  \n",
       "712441   Great first impressions about the little netbo...  \n",
       "560377                           twittermention on my way   \n",
       "379912   twittermention hehehe wait until we get back f...  \n",
       "\n",
       "[100000 rows x 5 columns]"
      ]
     },
     "execution_count": 34,
     "metadata": {},
     "output_type": "execute_result"
    }
   ],
   "source": [
    "model.df_test"
   ]
  },
  {
   "cell_type": "code",
   "execution_count": 31,
   "metadata": {},
   "outputs": [
    {
     "data": {
      "text/plain": [
       "128000"
      ]
     },
     "execution_count": 31,
     "metadata": {},
     "output_type": "execute_result"
    }
   ],
   "source": [
    "2000*64"
   ]
  },
  {
   "cell_type": "code",
   "execution_count": 23,
   "metadata": {},
   "outputs": [
    {
     "data": {
      "text/plain": [
       "(100000, 5)"
      ]
     },
     "execution_count": 23,
     "metadata": {},
     "output_type": "execute_result"
    }
   ],
   "source": [
    "model.df_test.shape"
   ]
  },
  {
   "cell_type": "code",
   "execution_count": 35,
   "metadata": {},
   "outputs": [
    {
     "data": {
      "text/plain": [
       "[<matplotlib.lines.Line2D at 0x12e8f8ac8>]"
      ]
     },
     "execution_count": 35,
     "metadata": {},
     "output_type": "execute_result"
    },
    {
     "data": {
      "image/png": "[encoded data removed]",
      "text/plain": [
       "<Figure size 432x288 with 1 Axes>"
      ]
     },
     "metadata": {},
     "output_type": "display_data"
    }
   ],
   "source": [
    "plt.plot(model.training_loss)"
   ]
  },
  {
   "cell_type": "code",
   "execution_count": null,
   "metadata": {},
   "outputs": [],
   "source": []
  },
  {
   "cell_type": "markdown",
   "metadata": {},
   "source": [
    "# Try graph\n",
    "with smaller embedding layer and predicting sentiment"
   ]
  },
  {
   "cell_type": "code",
   "execution_count": 1,
   "metadata": {},
   "outputs": [
    {
     "name": "stderr",
     "output_type": "stream",
     "text": [
      "/Users/pf494t/anaconda2/envs/py36/lib/python3.6/site-packages/h5py/__init__.py:36: FutureWarning: Conversion of the second argument of issubdtype from `float` to `np.floating` is deprecated. In future, it will be treated as `np.float64 == np.dtype(float).type`.\n",
      "  from ._conv import register_converters as _register_converters\n",
      "Using TensorFlow backend.\n"
     ]
    }
   ],
   "source": [
    "from sys import path\n",
    "from sklearn.neighbors import BallTree\n",
    "import numpy as np\n",
    "path.append('./')\n",
    "\n",
    "import utils"
   ]
  },
  {
   "cell_type": "code",
   "execution_count": 2,
   "metadata": {},
   "outputs": [],
   "source": [
    "import tensorflow as tf"
   ]
  },
  {
   "cell_type": "code",
   "execution_count": 3,
   "metadata": {},
   "outputs": [],
   "source": [
    "model = utils.Encoder(\n",
    "    labeled_twts='../lab_twts_1million.csv',\n",
    "    glove_path='../../glove_pretrained/glove.twitter.27B.200d.txt',\n",
    "    num_total_twts = int(1e6),\n",
    "    glove_vec_size=200,\n",
    "    top_n_words_to_process=100000,\n",
    "    max_seq_length=50,\n",
    "    batch_size=64,\n",
    "    emb_size=200,\n",
    "    lstm_units=24\n",
    ")"
   ]
  },
  {
   "cell_type": "code",
   "execution_count": 4,
   "metadata": {},
   "outputs": [
    {
     "name": "stderr",
     "output_type": "stream",
     "text": [
      "b'Skipping line 8836: expected 4 fields, saw 5\\n'\n",
      "b'Skipping line 535882: expected 4 fields, saw 7\\n'\n"
     ]
    }
   ],
   "source": [
    "model.read_data()\n",
    "model.text_preprocessing()\n",
    "model.load_embedding_matrix(pickle_file='normed_embedding_mat.pickle')"
   ]
  },
  {
   "cell_type": "code",
   "execution_count": 5,
   "metadata": {},
   "outputs": [],
   "source": [
    "model.build_lstm_binary_pred_graph()"
   ]
  },
  {
   "cell_type": "code",
   "execution_count": 6,
   "metadata": {},
   "outputs": [
    {
     "name": "stdout",
     "output_type": "stream",
     "text": [
      "INFO:tensorflow:Restoring parameters from ./pred_enc_model.ckpt\n",
      "Model restored.\n"
     ]
    }
   ],
   "source": [
    "model.forward_prop(ckpt_path='./pred_enc_model.ckpt')"
   ]
  },
  {
   "cell_type": "code",
   "execution_count": 11,
   "metadata": {},
   "outputs": [
    {
     "data": {
      "text/plain": [
       "50"
      ]
     },
     "execution_count": 11,
     "metadata": {},
     "output_type": "execute_result"
    }
   ],
   "source": [
    "int(model.emb.shape[1])"
   ]
  },
  {
   "cell_type": "code",
   "execution_count": 5,
   "metadata": {},
   "outputs": [
    {
     "data": {
      "text/plain": [
       "array([[1., 0.],\n",
       "       [1., 0.],\n",
       "       [0., 1.],\n",
       "       ...,\n",
       "       [0., 1.],\n",
       "       [1., 0.],\n",
       "       [0., 1.]])"
      ]
     },
     "execution_count": 5,
     "metadata": {},
     "output_type": "execute_result"
    }
   ],
   "source": [
    "model.training_labels"
   ]
  },
  {
   "cell_type": "code",
   "execution_count": 6,
   "metadata": {},
   "outputs": [],
   "source": [
    "tf.reset_default_graph() # avoid errors if re-running the cell\n",
    "\n",
    "# format numpy data for network\n",
    "train_data = (model.training_seq,model.training_labels) \n",
    "#test_data = (test_features, test_labels)\n",
    "\n",
    "# consume the numpy data in batches\n",
    "train_dataset = tf.data.Dataset.from_tensor_slices(train_data).repeat().batch(model.batch_size)\n",
    "#test_dataset = tf.data.Dataset.from_tensor_slices(test_data).repeat().batch(test_n)\n",
    "\n",
    "# instantiate iterator with the correct shape and type\n",
    "model.iterator = tf.data.Iterator.from_structure(train_dataset.output_types,\n",
    "                                           train_dataset.output_shapes)\n",
    "\n",
    "# feed these objects into network\n",
    "features, labels = model.iterator.get_next()\n",
    "\n",
    "# initialize to desired datasets\n",
    "model.train_init_op = model.iterator.make_initializer(train_dataset,name='training_iterator')\n",
    "#test_init_op = iterator.make_initializer(test_dataset,name='testing_iterator')"
   ]
  },
  {
   "cell_type": "code",
   "execution_count": 10,
   "metadata": {},
   "outputs": [],
   "source": [
    "# in development \n",
    "embeddings = tf.nn.embedding_lookup(model.normed_embedding_mat, features,name='batch_embeddings')\n",
    "embeddings_d = tf.nn.dropout(embeddings,0.5,name='emb_dropout')\n",
    "\n",
    "cell_fw_enc = tf.contrib.rnn.LSTMCell(model.lstm_units,name='lstm_enc_f')\n",
    "cell_bw_enc = tf.contrib.rnn.LSTMCell(model.lstm_units,name='lstm_enc_b')\n",
    "\n",
    "cell_fw_enc = tf.nn.rnn_cell.DropoutWrapper(cell_fw_enc, output_keep_prob=0.5, seed=42)\n",
    "cell_bw_enc = tf.nn.rnn_cell.DropoutWrapper(cell_bw_enc, output_keep_prob=0.5, seed=42)\n",
    "\n",
    "#lstm_cell = tf.nn.rnn_cell.DropoutWrapper(lstm_cell, output_keep_prob=0.5, seed=42)\n",
    "\n",
    "(output_fw_enc, output_bw_enc), _ = tf.nn.bidirectional_dynamic_rnn(cell_fw_enc,\n",
    "    cell_bw_enc, embeddings_d,\n",
    "    dtype=tf.float32)\n",
    "\n",
    "enc = tf.concat([output_fw_enc, output_bw_enc], axis=-1)\n",
    "enc_flat = tf.contrib.layers.flatten(enc)\n",
    "\n",
    "enc_2 = tf.layers.dense(enc_flat,50)\n",
    "enc_2_d = tf.nn.dropout(enc_2,0.5,name='enc_dropout')\n",
    "\n",
    "preds = tf.layers.dense(enc_2_d,2)\n",
    "\n",
    "model.loss = tf.losses.sigmoid_cross_entropy(multi_class_labels=labels,logits=preds)\n",
    "#optimizer = tf.train.GradientDescentOptimizer(learning_rate=0.1).minimize(loss)\n",
    "model.optimizer = tf.train.AdamOptimizer().minimize(model.loss)\n",
    "\n",
    "model.saver = tf.train.Saver()"
   ]
  },
  {
   "cell_type": "code",
   "execution_count": 7,
   "metadata": {},
   "outputs": [],
   "source": [
    "tree2 = BallTree(model.e_test_agg)\n",
    "len_agg = model.e_test_agg.shape[0]"
   ]
  },
  {
   "cell_type": "code",
   "execution_count": 30,
   "metadata": {},
   "outputs": [],
   "source": [
    "#126202"
   ]
  },
  {
   "cell_type": "code",
   "execution_count": 33,
   "metadata": {},
   "outputs": [
    {
     "name": "stdout",
     "output_type": "stream",
     "text": [
      "index 34392\n",
      "\n",
      "Going swimming again cuz my older sister wants to go. I wanted to finish harry potter  oh well.\n",
      "\n",
      "twittermention lol... Love your BIO! crazy twitter lady lol... Just started following Looking forward to getting to know ya! \n",
      "\n",
      "Time to eat and then get packing my suitcase again to go to the airport to fly home to London. Good bye Canada \n",
      "\n",
      "so happy right now...  have a sister in law... \n",
      "\n",
      "I have to wear my friggin glasses today. \n",
      "\n",
      "twittermention same for me but no pain  Lache pas lol\n",
      "\n",
      "Celebrating my girlfriend today ! \n",
      "\n",
      "twittermention im about to roll up and figure out my day just woke up had a long night burping \n",
      "\n",
      "is talking about Donny Evans... \n",
      "\n",
      "..another 'magic' moment for Lakers \n",
      "\n"
     ]
    }
   ],
   "source": [
    "r = np.random.randint(0,len_agg)\n",
    "sim_score, sim_idxs = tree2.query([model.e_test_agg[r]],k=10)\n",
    "\n",
    "print('index {}\\n'.format(r))\n",
    "for i, sim_ix in enumerate(sim_idxs[0]):\n",
    "    print(model.df_train['normed_text'].iloc[sim_ix])\n",
    "    print()"
   ]
  },
  {
   "cell_type": "markdown",
   "metadata": {},
   "source": [
    "### the problem here is that `.forward_prop()` uses `.build_graph()`, which has a pre-set architecture\n",
    "I want a function that will associate the associate key layers as attributes of the `model` object. Want to use the function to define the tensorflow graph.\n",
    "\n",
    "Parameters: model_obj, "
   ]
  },
  {
   "cell_type": "code",
   "execution_count": 18,
   "metadata": {},
   "outputs": [],
   "source": [
    "def build_lstm_binary_pred_graph(self):\n",
    "    tf.reset_default_graph()\n",
    "    train_data = (self.training_seq,self.training_labels) \n",
    "    train_dataset = tf.data.Dataset.from_tensor_slices(train_data).repeat().batch(self.batch_size)\n",
    "    self.iterator = tf.data.Iterator.from_structure(train_dataset.output_types,\n",
    "                                               train_dataset.output_shapes)\n",
    "\n",
    "    features, labels = self.iterator.get_next()\n",
    "    self.train_init_op = self.iterator.make_initializer(train_dataset,name='training_iterator')\n",
    "\n",
    "    embeddings = tf.nn.embedding_lookup(self.normed_embedding_mat, features,name='batch_embeddings')\n",
    "    embeddings_d = tf.nn.dropout(embeddings,0.5,name='emb_dropout')\n",
    "\n",
    "    cell_fw_enc = tf.contrib.rnn.LSTMCell(self.lstm_units,name='lstm_enc_f')\n",
    "    cell_bw_enc = tf.contrib.rnn.LSTMCell(self.lstm_units,name='lstm_enc_b')\n",
    "\n",
    "    cell_fw_enc = tf.nn.rnn_cell.DropoutWrapper(cell_fw_enc, output_keep_prob=0.5, seed=42)\n",
    "    cell_bw_enc = tf.nn.rnn_cell.DropoutWrapper(cell_bw_enc, output_keep_prob=0.5, seed=42)\n",
    "\n",
    "    (output_fw_enc, output_bw_enc), _ = tf.nn.bidirectional_dynamic_rnn(cell_fw_enc,\n",
    "        cell_bw_enc, embeddings_d,\n",
    "        dtype=tf.float32)\n",
    "\n",
    "    enc = tf.concat([output_fw_enc, output_bw_enc], axis=-1)\n",
    "    enc_flat = tf.contrib.layers.flatten(enc)\n",
    "\n",
    "    enc_2 = tf.layers.dense(enc_flat,50)\n",
    "    enc_2_d = tf.nn.dropout(enc_2,0.5,name='enc_dropout')\n",
    "\n",
    "    preds = tf.layers.dense(enc_2_d,2)\n",
    "\n",
    "    self.loss = tf.losses.sigmoid_cross_entropy(multi_class_labels=labels,logits=preds)\n",
    "    self.optimizer = tf.train.AdamOptimizer().minimize(self.loss)\n",
    "    self.saver = tf.train.Saver()"
   ]
  },
  {
   "cell_type": "code",
   "execution_count": 27,
   "metadata": {},
   "outputs": [
    {
     "data": {
      "text/plain": [
       "128000"
      ]
     },
     "execution_count": 27,
     "metadata": {},
     "output_type": "execute_result"
    }
   ],
   "source": [
    "64 * 2000"
   ]
  },
  {
   "cell_type": "code",
   "execution_count": 19,
   "metadata": {},
   "outputs": [],
   "source": [
    "#Doer.doSomething = doItBetter\n",
    "model.build_graph = build_lstm_binary_pred_graph\n",
    "#build_lstm_binary_pred_graph(model)"
   ]
  },
  {
   "cell_type": "code",
   "execution_count": 20,
   "metadata": {},
   "outputs": [
    {
     "ename": "TypeError",
     "evalue": "build_lstm_binary_pred_graph() missing 1 required positional argument: 'self'",
     "output_type": "error",
     "traceback": [
      "\u001b[0;31m---------------------------------------------------------------------------\u001b[0m",
      "\u001b[0;31mTypeError\u001b[0m                                 Traceback (most recent call last)",
      "\u001b[0;32m<ipython-input-20-fb3f92879cab>\u001b[0m in \u001b[0;36m<module>\u001b[0;34m()\u001b[0m\n\u001b[0;32m----> 1\u001b[0;31m \u001b[0mmodel\u001b[0m\u001b[0;34m.\u001b[0m\u001b[0mbuild_graph\u001b[0m\u001b[0;34m(\u001b[0m\u001b[0;34m)\u001b[0m\u001b[0;34m\u001b[0m\u001b[0m\n\u001b[0m",
      "\u001b[0;31mTypeError\u001b[0m: build_lstm_binary_pred_graph() missing 1 required positional argument: 'self'"
     ]
    }
   ],
   "source": [
    "model.build_graph()"
   ]
  },
  {
   "cell_type": "code",
   "execution_count": 10,
   "metadata": {},
   "outputs": [
    {
     "ename": "TypeError",
     "evalue": "'NoneType' object is not callable",
     "output_type": "error",
     "traceback": [
      "\u001b[0;31m---------------------------------------------------------------------------\u001b[0m",
      "\u001b[0;31mTypeError\u001b[0m                                 Traceback (most recent call last)",
      "\u001b[0;32m<ipython-input-10-a2d6e50e8515>\u001b[0m in \u001b[0;36m<module>\u001b[0;34m()\u001b[0m\n\u001b[1;32m      1\u001b[0m \u001b[0;31m#./pred_enc_model.ckpt\u001b[0m\u001b[0;34m\u001b[0m\u001b[0;34m\u001b[0m\u001b[0m\n\u001b[0;32m----> 2\u001b[0;31m \u001b[0mmodel\u001b[0m\u001b[0;34m.\u001b[0m\u001b[0mforward_prop\u001b[0m\u001b[0;34m(\u001b[0m\u001b[0mckpt_path\u001b[0m\u001b[0;34m=\u001b[0m\u001b[0;34m'./pred_enc_model.ckpt'\u001b[0m\u001b[0;34m)\u001b[0m\u001b[0;34m\u001b[0m\u001b[0m\n\u001b[0m",
      "\u001b[0;32m~/local_scripts/deep_learning_sentiment_twitter_trial/tweet_autoencoder/utils.py\u001b[0m in \u001b[0;36mforward_prop\u001b[0;34m(self, ckpt_path, batch_size, num_epochs)\u001b[0m\n\u001b[1;32m    192\u001b[0m         \u001b[0;31m#print(batch_size)\u001b[0m\u001b[0;34m\u001b[0m\u001b[0;34m\u001b[0m\u001b[0m\n\u001b[1;32m    193\u001b[0m         \u001b[0mself\u001b[0m\u001b[0;34m.\u001b[0m\u001b[0mbatch_size\u001b[0m \u001b[0;34m=\u001b[0m \u001b[0mbatch_size\u001b[0m\u001b[0;34m\u001b[0m\u001b[0m\n\u001b[0;32m--> 194\u001b[0;31m         \u001b[0mself\u001b[0m\u001b[0;34m.\u001b[0m\u001b[0mbuild_graph\u001b[0m\u001b[0;34m(\u001b[0m\u001b[0;34m)\u001b[0m\u001b[0;34m\u001b[0m\u001b[0m\n\u001b[0m\u001b[1;32m    195\u001b[0m \u001b[0;34m\u001b[0m\u001b[0m\n\u001b[1;32m    196\u001b[0m         \u001b[0me_test_agg\u001b[0m \u001b[0;34m=\u001b[0m \u001b[0mnp\u001b[0m\u001b[0;34m.\u001b[0m\u001b[0mzeros\u001b[0m\u001b[0;34m(\u001b[0m\u001b[0;34m[\u001b[0m\u001b[0mbatch_size\u001b[0m\u001b[0;34m*\u001b[0m\u001b[0mnum_epochs\u001b[0m\u001b[0;34m,\u001b[0m\u001b[0;36m2400\u001b[0m\u001b[0;34m]\u001b[0m\u001b[0;34m)\u001b[0m\u001b[0;34m\u001b[0m\u001b[0m\n",
      "\u001b[0;31mTypeError\u001b[0m: 'NoneType' object is not callable"
     ]
    }
   ],
   "source": [
    "#./pred_enc_model.ckpt\n",
    "model.forward_prop(ckpt_path='./pred_enc_model.ckpt')"
   ]
  },
  {
   "cell_type": "code",
   "execution_count": null,
   "metadata": {},
   "outputs": [],
   "source": [
    "tree2 = BallTree(model.e_test_agg)\n",
    "len_agg = model.e_test_agg.shape[0]"
   ]
  },
  {
   "cell_type": "code",
   "execution_count": null,
   "metadata": {},
   "outputs": [],
   "source": [
    "r = np.random.randint(0,len_agg)\n",
    "sim_score, sim_idxs = tree.query([model.e_test_agg[r]],k=10)\n",
    "\n",
    "print('index {}\\n'.format(r))\n",
    "for i, sim_ix in enumerate(sim_idxs[0]):\n",
    "    print(model.df_train['normed_text'].iloc[sim_ix])\n",
    "    print()"
   ]
  },
  {
   "cell_type": "code",
   "execution_count": 19,
   "metadata": {},
   "outputs": [],
   "source": [
    "#dir(model.iterator)"
   ]
  },
  {
   "cell_type": "code",
   "execution_count": 15,
   "metadata": {},
   "outputs": [
    {
     "data": {
      "text/plain": [
       "(TensorShape([Dimension(None), Dimension(50)]),\n",
       " TensorShape([Dimension(None), Dimension(2)]))"
      ]
     },
     "execution_count": 15,
     "metadata": {},
     "output_type": "execute_result"
    }
   ],
   "source": [
    "model.iterator.output_shapes"
   ]
  },
  {
   "cell_type": "code",
   "execution_count": 22,
   "metadata": {},
   "outputs": [
    {
     "ename": "AssertionError",
     "evalue": "",
     "output_type": "error",
     "traceback": [
      "\u001b[0;31m---------------------------------------------------------------------------\u001b[0m",
      "\u001b[0;31mAssertionError\u001b[0m                            Traceback (most recent call last)",
      "\u001b[0;32m<ipython-input-22-91d16dafa3fa>\u001b[0m in \u001b[0;36m<module>\u001b[0;34m()\u001b[0m\n\u001b[0;32m----> 1\u001b[0;31m \u001b[0;32massert\u001b[0m\u001b[0;34m(\u001b[0m\u001b[0;36m1\u001b[0m\u001b[0;34m==\u001b[0m\u001b[0;36m2\u001b[0m\u001b[0;34m)\u001b[0m\u001b[0;34m\u001b[0m\u001b[0m\n\u001b[0m",
      "\u001b[0;31mAssertionError\u001b[0m: "
     ]
    }
   ],
   "source": [
    "assert(1==2)"
   ]
  },
  {
   "cell_type": "code",
   "execution_count": 12,
   "metadata": {},
   "outputs": [],
   "source": [
    "import pickle"
   ]
  },
  {
   "cell_type": "code",
   "execution_count": 13,
   "metadata": {},
   "outputs": [],
   "source": [
    "with open('normed_embedding_mat.pickle','rb') as f:\n",
    "    nor = pickle.load(f)"
   ]
  },
  {
   "cell_type": "code",
   "execution_count": 14,
   "metadata": {},
   "outputs": [
    {
     "data": {
      "text/plain": [
       "array([[ 0.14549467, -0.06929245, -0.0653552 , ..., -0.34077665,\n",
       "         0.05764554,  0.24998271],\n",
       "       [ 0.14549467, -0.06929245, -0.0653552 , ..., -0.34077665,\n",
       "         0.05764554,  0.24998271],\n",
       "       [ 0.34960034,  1.7204726 ,  0.6154564 , ...,  1.8299967 ,\n",
       "        -0.6424458 ,  0.13082089],\n",
       "       ...,\n",
       "       [ 0.14549467, -0.06929245, -0.0653552 , ..., -0.34077665,\n",
       "         0.05764554,  0.24998271],\n",
       "       [-0.5822497 ,  0.9691731 , -0.32950154, ..., -0.9492608 ,\n",
       "        -0.14419806, -1.7650244 ],\n",
       "       [-0.31884897,  3.2818923 , -1.6453004 , ...,  0.43799567,\n",
       "         1.3184774 ,  0.21169867]], dtype=float32)"
      ]
     },
     "execution_count": 14,
     "metadata": {},
     "output_type": "execute_result"
    }
   ],
   "source": [
    "nor"
   ]
  },
  {
   "cell_type": "code",
   "execution_count": 8,
   "metadata": {},
   "outputs": [
    {
     "name": "stdout",
     "output_type": "stream",
     "text": [
      "normed_embedding_mat.pickle\r\n"
     ]
    }
   ],
   "source": [
    "normed_embedding_mat.pickle"
   ]
  },
  {
   "cell_type": "code",
   "execution_count": 10,
   "metadata": {},
   "outputs": [],
   "source": [
    "model.normed_embedding_mat"
   ]
  },
  {
   "cell_type": "code",
   "execution_count": 7,
   "metadata": {},
   "outputs": [
    {
     "ename": "NameError",
     "evalue": "name 'train_init_op' is not defined",
     "output_type": "error",
     "traceback": [
      "\u001b[0;31m---------------------------------------------------------------------------\u001b[0m",
      "\u001b[0;31mNameError\u001b[0m                                 Traceback (most recent call last)",
      "\u001b[0;32m<ipython-input-7-aa568780fc33>\u001b[0m in \u001b[0;36m<module>\u001b[0;34m()\u001b[0m\n\u001b[0;32m----> 1\u001b[0;31m \u001b[0mmodel\u001b[0m\u001b[0;34m.\u001b[0m\u001b[0mtrain_model\u001b[0m\u001b[0;34m(\u001b[0m\u001b[0;34m)\u001b[0m\u001b[0;34m\u001b[0m\u001b[0m\n\u001b[0m",
      "\u001b[0;32m~/local_scripts/deep_learning_sentiment_twitter_trial/tweet_autoencoder/utils.py\u001b[0m in \u001b[0;36mtrain_model\u001b[0;34m(self, num_epochs, ep_print_intvl, save_path)\u001b[0m\n\u001b[1;32m    155\u001b[0m         \u001b[0;32mwith\u001b[0m \u001b[0mtf\u001b[0m\u001b[0;34m.\u001b[0m\u001b[0mSession\u001b[0m\u001b[0;34m(\u001b[0m\u001b[0;34m)\u001b[0m \u001b[0;32mas\u001b[0m \u001b[0msess\u001b[0m\u001b[0;34m:\u001b[0m\u001b[0;34m\u001b[0m\u001b[0m\n\u001b[1;32m    156\u001b[0m             \u001b[0msess\u001b[0m\u001b[0;34m.\u001b[0m\u001b[0mrun\u001b[0m\u001b[0;34m(\u001b[0m\u001b[0mtf\u001b[0m\u001b[0;34m.\u001b[0m\u001b[0mglobal_variables_initializer\u001b[0m\u001b[0;34m(\u001b[0m\u001b[0;34m)\u001b[0m\u001b[0;34m)\u001b[0m\u001b[0;34m\u001b[0m\u001b[0m\n\u001b[0;32m--> 157\u001b[0;31m             \u001b[0msess\u001b[0m\u001b[0;34m.\u001b[0m\u001b[0mrun\u001b[0m\u001b[0;34m(\u001b[0m\u001b[0;34m[\u001b[0m\u001b[0mtrain_init_op\u001b[0m\u001b[0;34m]\u001b[0m\u001b[0;34m)\u001b[0m\u001b[0;34m\u001b[0m\u001b[0m\n\u001b[0m\u001b[1;32m    158\u001b[0m             \u001b[0;32mfor\u001b[0m \u001b[0mepoch\u001b[0m \u001b[0;32min\u001b[0m \u001b[0mrange\u001b[0m\u001b[0;34m(\u001b[0m\u001b[0;36m1000\u001b[0m\u001b[0;34m)\u001b[0m\u001b[0;34m:\u001b[0m\u001b[0;34m\u001b[0m\u001b[0m\n\u001b[1;32m    159\u001b[0m                 \u001b[0m_\u001b[0m\u001b[0;34m,\u001b[0m \u001b[0ml\u001b[0m \u001b[0;34m=\u001b[0m \u001b[0msess\u001b[0m\u001b[0;34m.\u001b[0m\u001b[0mrun\u001b[0m\u001b[0;34m(\u001b[0m\u001b[0;34m[\u001b[0m\u001b[0moptimizer\u001b[0m\u001b[0;34m,\u001b[0m \u001b[0mloss\u001b[0m\u001b[0;34m]\u001b[0m\u001b[0;34m)\u001b[0m\u001b[0;34m\u001b[0m\u001b[0m\n",
      "\u001b[0;31mNameError\u001b[0m: name 'train_init_op' is not defined"
     ]
    }
   ],
   "source": [
    "model.train_model()"
   ]
  },
  {
   "cell_type": "code",
   "execution_count": 5,
   "metadata": {},
   "outputs": [
    {
     "name": "stdout",
     "output_type": "stream",
     "text": [
      "\u001b[1m\u001b[31m../lab_twts_1million.csv\u001b[m\u001b[m*\r\n"
     ]
    }
   ],
   "source": [
    "ls ../lab_twts_1million.csv"
   ]
  },
  {
   "cell_type": "code",
   "execution_count": 6,
   "metadata": {},
   "outputs": [
    {
     "name": "stdout",
     "output_type": "stream",
     "text": [
      "glove.6B.100d.txt           glove.6B.50d.txt\r\n",
      "glove.6B.200d.txt           glove.twitter.27B.200d.txt\r\n",
      "glove.6B.300d.txt\r\n"
     ]
    }
   ],
   "source": [
    "ls ../../glove_pretrained/"
   ]
  },
  {
   "cell_type": "code",
   "execution_count": 7,
   "metadata": {},
   "outputs": [],
   "source": [
    "#model.text_preprocessing()"
   ]
  },
  {
   "cell_type": "code",
   "execution_count": 22,
   "metadata": {},
   "outputs": [],
   "source": [
    "class tester:\n",
    "    def __init__(self,a=4,b=6):\n",
    "        self.a = a\n",
    "        self.b = b\n",
    "        \n",
    "    def add_c(self,c):\n",
    "        self.c = c\n",
    "    \n",
    "    def try_it(self,d=99):\n",
    "        self.d = d"
   ]
  },
  {
   "cell_type": "code",
   "execution_count": 23,
   "metadata": {},
   "outputs": [],
   "source": [
    "t = tester()"
   ]
  },
  {
   "cell_type": "code",
   "execution_count": 24,
   "metadata": {},
   "outputs": [],
   "source": [
    "t.try_it(d=55)"
   ]
  },
  {
   "cell_type": "code",
   "execution_count": 34,
   "metadata": {},
   "outputs": [
    {
     "data": {
      "text/plain": [
       "55"
      ]
     },
     "execution_count": 34,
     "metadata": {},
     "output_type": "execute_result"
    }
   ],
   "source": [
    "t.d"
   ]
  },
  {
   "cell_type": "code",
   "execution_count": 10,
   "metadata": {},
   "outputs": [],
   "source": [
    "t.add_c(7)"
   ]
  },
  {
   "cell_type": "code",
   "execution_count": 14,
   "metadata": {},
   "outputs": [
    {
     "data": {
      "text/plain": [
       "7"
      ]
     },
     "execution_count": 14,
     "metadata": {},
     "output_type": "execute_result"
    }
   ],
   "source": [
    "t.c"
   ]
  },
  {
   "cell_type": "code",
   "execution_count": 20,
   "metadata": {},
   "outputs": [],
   "source": [
    "model.new_thing = 5"
   ]
  },
  {
   "cell_type": "code",
   "execution_count": null,
   "metadata": {},
   "outputs": [],
   "source": []
  }
 ],
 "metadata": {
  "kernelspec": {
   "display_name": "Python 3",
   "language": "python",
   "name": "python3"
  },
  "language_info": {
   "codemirror_mode": {
    "name": "ipython",
    "version": 3
   },
   "file_extension": ".py",
   "mimetype": "text/x-python",
   "name": "python",
   "nbconvert_exporter": "python",
   "pygments_lexer": "ipython3",
   "version": "3.6.4"
  }
 },
 "nbformat": 4,
 "nbformat_minor": 2
}
